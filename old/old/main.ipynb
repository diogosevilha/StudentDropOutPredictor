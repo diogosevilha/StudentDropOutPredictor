{
 "cells": [
  {
   "cell_type": "markdown",
   "id": "32291e8a",
   "metadata": {},
   "source": [
    "O Objetivo desse preditor sera classificar alunos ëntre os perfis de: \"Evadido\" e \"Em Curso ou Concluido\". Os dados utilizados sao referentes aos dados y"
   ]
  }
 ],
 "metadata": {
  "language_info": {
   "name": "python"
  }
 },
 "nbformat": 4,
 "nbformat_minor": 5
}
